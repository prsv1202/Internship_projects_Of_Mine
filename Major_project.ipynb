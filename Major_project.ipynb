{
 "cells": [
  {
   "cell_type": "code",
   "execution_count": 1,
   "id": "59d140cf",
   "metadata": {},
   "outputs": [
    {
     "name": "stderr",
     "output_type": "stream",
     "text": [
      "2022-10-10 19:36:27.382667: W tensorflow/stream_executor/platform/default/dso_loader.cc:64] Could not load dynamic library 'libcudart.so.11.0'; dlerror: libcudart.so.11.0: cannot open shared object file: No such file or directory\n",
      "2022-10-10 19:36:27.382715: I tensorflow/stream_executor/cuda/cudart_stub.cc:29] Ignore above cudart dlerror if you do not have a GPU set up on your machine.\n"
     ]
    }
   ],
   "source": [
    "import pandas_datareader as web\n",
    "import matplotlib.pyplot as plt\n",
    "import numpy as np\n",
    "import math\n",
    "from sklearn.preprocessing import MinMaxScaler\n",
    "import pandas as pd\n",
    "from keras.models import Sequential\n",
    "from keras.layers import Dense,LSTM\n",
    "plt.style.use('fivethirtyeight')"
   ]
  },
  {
   "cell_type": "code",
   "execution_count": 2,
   "id": "a1a27d3a",
   "metadata": {},
   "outputs": [],
   "source": [
    "\n",
    "df=web.DataReader('AAPL',data_source='yahoo')\n",
    "#df=web.get_data_fred('GS10')\n",
    "\n"
   ]
  },
  {
   "cell_type": "code",
   "execution_count": 3,
   "id": "dabbff9f",
   "metadata": {},
   "outputs": [
    {
     "data": {
      "text/html": [
       "<div>\n",
       "<style scoped>\n",
       "    .dataframe tbody tr th:only-of-type {\n",
       "        vertical-align: middle;\n",
       "    }\n",
       "\n",
       "    .dataframe tbody tr th {\n",
       "        vertical-align: top;\n",
       "    }\n",
       "\n",
       "    .dataframe thead th {\n",
       "        text-align: right;\n",
       "    }\n",
       "</style>\n",
       "<table border=\"1\" class=\"dataframe\">\n",
       "  <thead>\n",
       "    <tr style=\"text-align: right;\">\n",
       "      <th></th>\n",
       "      <th>High</th>\n",
       "      <th>Low</th>\n",
       "      <th>Open</th>\n",
       "      <th>Close</th>\n",
       "      <th>Volume</th>\n",
       "      <th>Adj Close</th>\n",
       "    </tr>\n",
       "    <tr>\n",
       "      <th>Date</th>\n",
       "      <th></th>\n",
       "      <th></th>\n",
       "      <th></th>\n",
       "      <th></th>\n",
       "      <th></th>\n",
       "      <th></th>\n",
       "    </tr>\n",
       "  </thead>\n",
       "  <tbody>\n",
       "    <tr>\n",
       "      <th>2017-10-10</th>\n",
       "      <td>39.500000</td>\n",
       "      <td>38.775002</td>\n",
       "      <td>39.014999</td>\n",
       "      <td>38.974998</td>\n",
       "      <td>62468000.0</td>\n",
       "      <td>36.989822</td>\n",
       "    </tr>\n",
       "    <tr>\n",
       "      <th>2017-10-11</th>\n",
       "      <td>39.244999</td>\n",
       "      <td>38.937500</td>\n",
       "      <td>38.992500</td>\n",
       "      <td>39.137501</td>\n",
       "      <td>67622400.0</td>\n",
       "      <td>37.144054</td>\n",
       "    </tr>\n",
       "    <tr>\n",
       "      <th>2017-10-12</th>\n",
       "      <td>39.342499</td>\n",
       "      <td>38.932499</td>\n",
       "      <td>39.087502</td>\n",
       "      <td>39.000000</td>\n",
       "      <td>64500400.0</td>\n",
       "      <td>37.013554</td>\n",
       "    </tr>\n",
       "    <tr>\n",
       "      <th>2017-10-13</th>\n",
       "      <td>39.320000</td>\n",
       "      <td>39.102501</td>\n",
       "      <td>39.182499</td>\n",
       "      <td>39.247501</td>\n",
       "      <td>65576800.0</td>\n",
       "      <td>37.248440</td>\n",
       "    </tr>\n",
       "    <tr>\n",
       "      <th>2017-10-16</th>\n",
       "      <td>40.000000</td>\n",
       "      <td>39.412498</td>\n",
       "      <td>39.474998</td>\n",
       "      <td>39.970001</td>\n",
       "      <td>96486000.0</td>\n",
       "      <td>37.934147</td>\n",
       "    </tr>\n",
       "    <tr>\n",
       "      <th>...</th>\n",
       "      <td>...</td>\n",
       "      <td>...</td>\n",
       "      <td>...</td>\n",
       "      <td>...</td>\n",
       "      <td>...</td>\n",
       "      <td>...</td>\n",
       "    </tr>\n",
       "    <tr>\n",
       "      <th>2022-10-04</th>\n",
       "      <td>146.220001</td>\n",
       "      <td>144.259995</td>\n",
       "      <td>145.029999</td>\n",
       "      <td>146.100006</td>\n",
       "      <td>87830100.0</td>\n",
       "      <td>146.100006</td>\n",
       "    </tr>\n",
       "    <tr>\n",
       "      <th>2022-10-05</th>\n",
       "      <td>147.380005</td>\n",
       "      <td>143.009995</td>\n",
       "      <td>144.070007</td>\n",
       "      <td>146.399994</td>\n",
       "      <td>79471000.0</td>\n",
       "      <td>146.399994</td>\n",
       "    </tr>\n",
       "    <tr>\n",
       "      <th>2022-10-06</th>\n",
       "      <td>147.539993</td>\n",
       "      <td>145.220001</td>\n",
       "      <td>145.809998</td>\n",
       "      <td>145.429993</td>\n",
       "      <td>68402200.0</td>\n",
       "      <td>145.429993</td>\n",
       "    </tr>\n",
       "    <tr>\n",
       "      <th>2022-10-07</th>\n",
       "      <td>143.100006</td>\n",
       "      <td>139.449997</td>\n",
       "      <td>142.539993</td>\n",
       "      <td>140.089996</td>\n",
       "      <td>85859100.0</td>\n",
       "      <td>140.089996</td>\n",
       "    </tr>\n",
       "    <tr>\n",
       "      <th>2022-10-10</th>\n",
       "      <td>140.630005</td>\n",
       "      <td>138.572906</td>\n",
       "      <td>140.419998</td>\n",
       "      <td>139.110001</td>\n",
       "      <td>13839738.0</td>\n",
       "      <td>139.110001</td>\n",
       "    </tr>\n",
       "  </tbody>\n",
       "</table>\n",
       "<p>1259 rows × 6 columns</p>\n",
       "</div>"
      ],
      "text/plain": [
       "                  High         Low        Open       Close      Volume  \\\n",
       "Date                                                                     \n",
       "2017-10-10   39.500000   38.775002   39.014999   38.974998  62468000.0   \n",
       "2017-10-11   39.244999   38.937500   38.992500   39.137501  67622400.0   \n",
       "2017-10-12   39.342499   38.932499   39.087502   39.000000  64500400.0   \n",
       "2017-10-13   39.320000   39.102501   39.182499   39.247501  65576800.0   \n",
       "2017-10-16   40.000000   39.412498   39.474998   39.970001  96486000.0   \n",
       "...                ...         ...         ...         ...         ...   \n",
       "2022-10-04  146.220001  144.259995  145.029999  146.100006  87830100.0   \n",
       "2022-10-05  147.380005  143.009995  144.070007  146.399994  79471000.0   \n",
       "2022-10-06  147.539993  145.220001  145.809998  145.429993  68402200.0   \n",
       "2022-10-07  143.100006  139.449997  142.539993  140.089996  85859100.0   \n",
       "2022-10-10  140.630005  138.572906  140.419998  139.110001  13839738.0   \n",
       "\n",
       "             Adj Close  \n",
       "Date                    \n",
       "2017-10-10   36.989822  \n",
       "2017-10-11   37.144054  \n",
       "2017-10-12   37.013554  \n",
       "2017-10-13   37.248440  \n",
       "2017-10-16   37.934147  \n",
       "...                ...  \n",
       "2022-10-04  146.100006  \n",
       "2022-10-05  146.399994  \n",
       "2022-10-06  145.429993  \n",
       "2022-10-07  140.089996  \n",
       "2022-10-10  139.110001  \n",
       "\n",
       "[1259 rows x 6 columns]"
      ]
     },
     "execution_count": 3,
     "metadata": {},
     "output_type": "execute_result"
    }
   ],
   "source": [
    "df"
   ]
  },
  {
   "cell_type": "code",
   "execution_count": 4,
   "id": "d1db9a71",
   "metadata": {},
   "outputs": [
    {
     "data": {
      "text/plain": [
       "High         0\n",
       "Low          0\n",
       "Open         0\n",
       "Close        0\n",
       "Volume       0\n",
       "Adj Close    0\n",
       "dtype: int64"
      ]
     },
     "execution_count": 4,
     "metadata": {},
     "output_type": "execute_result"
    }
   ],
   "source": [
    "df.isnull().sum()\n"
   ]
  },
  {
   "cell_type": "code",
   "execution_count": 5,
   "id": "862b66bd",
   "metadata": {},
   "outputs": [
    {
     "data": {
      "image/png": "[encoded data removed]",
      "text/plain": [
       "<Figure size 1152x576 with 1 Axes>"
      ]
     },
     "metadata": {},
     "output_type": "display_data"
    }
   ],
   "source": [
    "plt.figure(figsize=(16,8))\n",
    "plt.title('Close price History')\n",
    "plt.plot(df['Close'])\n",
    "plt.xlabel('Date', fontsize=18)\n",
    "plt.ylabel('close price USD ($)', fontsize=18)\n",
    "plt.show()"
   ]
  },
  {
   "cell_type": "code",
   "execution_count": 6,
   "id": "1f8e223c",
   "metadata": {},
   "outputs": [
    {
     "data": {
      "text/plain": [
       "1008"
      ]
     },
     "execution_count": 6,
     "metadata": {},
     "output_type": "execute_result"
    }
   ],
   "source": [
    "dataset=df.filter(['Close'])\n",
    "dat=dataset.values\n",
    "training_data_len = math.ceil(len(dat) * .8)\n",
    "\n",
    "training_data_len"
   ]
  },
  {
   "cell_type": "code",
   "execution_count": 7,
   "id": "f2ace5d3",
   "metadata": {},
   "outputs": [
    {
     "data": {
      "text/plain": [
       "array([[ 38.97499847],\n",
       "       [ 39.13750076],\n",
       "       [ 39.        ],\n",
       "       ...,\n",
       "       [145.42999268],\n",
       "       [140.08999634],\n",
       "       [139.11000061]])"
      ]
     },
     "execution_count": 7,
     "metadata": {},
     "output_type": "execute_result"
    }
   ],
   "source": [
    "dat"
   ]
  },
  {
   "cell_type": "code",
   "execution_count": 8,
   "id": "0f8725da",
   "metadata": {},
   "outputs": [
    {
     "data": {
      "text/plain": [
       "array([[0.02340188],\n",
       "       [0.0245114 ],\n",
       "       [0.02357258],\n",
       "       ...,\n",
       "       [0.75024321],\n",
       "       [0.71378339],\n",
       "       [0.70709229]])"
      ]
     },
     "execution_count": 8,
     "metadata": {},
     "output_type": "execute_result"
    }
   ],
   "source": [
    "scaler = MinMaxScaler(feature_range=(0,1))\n",
    "scaled_data = scaler.fit_transform(dat)\n",
    "\n",
    "scaled_data"
   ]
  },
  {
   "cell_type": "code",
   "execution_count": 9,
   "id": "190e09ae",
   "metadata": {},
   "outputs": [
    {
     "name": "stdout",
     "output_type": "stream",
     "text": [
      "[array([0.02340188, 0.0245114 , 0.02357258, 0.02526245, 0.03019545,\n",
      "       0.03120253, 0.0299906 , 0.02353844, 0.02399931, 0.02386276,\n",
      "       0.02545021, 0.02427243, 0.02597935, 0.03560639, 0.04187079,\n",
      "       0.04583083, 0.04216096, 0.04424341, 0.05173679, 0.0547239 ,\n",
      "       0.05567978, 0.05812069, 0.05750619, 0.05544081, 0.05424597,\n",
      "       0.04975676, 0.04589912, 0.04934711, 0.04772551, 0.04743534,\n",
      "       0.05282922, 0.05593583, 0.05595289, 0.05445079, 0.05270975,\n",
      "       0.04658188, 0.0506273 , 0.04926176, 0.04712811, 0.04685499,\n",
      "       0.04577962, 0.04630879, 0.04639412, 0.05202696, 0.05037125,\n",
      "       0.05134421, 0.05125885, 0.05424597, 0.05842792, 0.0552189 ,\n",
      "       0.05489461, 0.05602115, 0.05602115, 0.04844244, 0.04849365,\n",
      "       0.04931297, 0.04615515, 0.05132712, 0.05127591, 0.05264146])]\n",
      "[0.05600409477832419]\n",
      "\n"
     ]
    }
   ],
   "source": [
    "train_data = scaled_data[0:training_data_len , :]\n",
    "x_train = []\n",
    "y_train = []\n",
    "\n",
    "for i in range(60, len(train_data)):\n",
    "    x_train.append(train_data[i-60:i,0])\n",
    "    y_train.append(train_data[i,0])\n",
    "    if i<=60:\n",
    "        print(x_train)\n",
    "        print(y_train)\n",
    "        print()"
   ]
  },
  {
   "cell_type": "code",
   "execution_count": 10,
   "id": "d5fad855",
   "metadata": {},
   "outputs": [
    {
     "data": {
      "text/plain": [
       "(1008, 1)"
      ]
     },
     "execution_count": 10,
     "metadata": {},
     "output_type": "execute_result"
    }
   ],
   "source": [
    "train_data.shape\n"
   ]
  },
  {
   "cell_type": "code",
   "execution_count": 11,
   "id": "6b96a84b",
   "metadata": {},
   "outputs": [],
   "source": [
    "x_train, y_train = np.array(x_train),np.array(y_train)\n"
   ]
  },
  {
   "cell_type": "code",
   "execution_count": 12,
   "id": "ef77edcd",
   "metadata": {},
   "outputs": [
    {
     "data": {
      "text/plain": [
       "(948, 60, 1)"
      ]
     },
     "execution_count": 12,
     "metadata": {},
     "output_type": "execute_result"
    }
   ],
   "source": [
    "x_train = np.reshape(x_train,(x_train.shape[0],x_train.shape[1],1))\n",
    "x_train.shape"
   ]
  },
  {
   "cell_type": "code",
   "execution_count": 13,
   "id": "17253eac",
   "metadata": {},
   "outputs": [
    {
     "name": "stderr",
     "output_type": "stream",
     "text": [
      "2022-10-10 19:37:28.070783: W tensorflow/stream_executor/platform/default/dso_loader.cc:64] Could not load dynamic library 'libcuda.so.1'; dlerror: libcuda.so.1: cannot open shared object file: No such file or directory\n",
      "2022-10-10 19:37:28.070900: W tensorflow/stream_executor/cuda/cuda_driver.cc:326] failed call to cuInit: UNKNOWN ERROR (303)\n",
      "2022-10-10 19:37:28.071182: I tensorflow/stream_executor/cuda/cuda_diagnostics.cc:156] kernel driver does not appear to be running on this host (pendlimarri): /proc/driver/nvidia/version does not exist\n",
      "2022-10-10 19:37:28.072227: I tensorflow/core/platform/cpu_feature_guard.cc:142] This TensorFlow binary is optimized with oneAPI Deep Neural Network Library (oneDNN) to use the following CPU instructions in performance-critical operations:  AVX2 FMA\n",
      "To enable them in other operations, rebuild TensorFlow with the appropriate compiler flags.\n"
     ]
    }
   ],
   "source": [
    "model = Sequential()\n",
    "model.add(LSTM(50, return_sequences=True,input_shape=(x_train.shape[1],1)))\n",
    "model.add(LSTM(50, return_sequences=False))\n",
    "model.add(Dense(25))\n",
    "model.add(Dense(1))\n"
   ]
  },
  {
   "cell_type": "code",
   "execution_count": 14,
   "id": "c9e86b02",
   "metadata": {},
   "outputs": [],
   "source": [
    "model.compile(optimizer='adam',loss='mean_squared_error')\n"
   ]
  },
  {
   "cell_type": "code",
   "execution_count": 15,
   "id": "d40c4c65",
   "metadata": {},
   "outputs": [
    {
     "name": "stderr",
     "output_type": "stream",
     "text": [
      "2022-10-10 19:45:09.506958: I tensorflow/compiler/mlir/mlir_graph_optimization_pass.cc:176] None of the MLIR Optimization Passes are enabled (registered 2)\n",
      "2022-10-10 19:45:09.562929: I tensorflow/core/platform/profile_utils/cpu_utils.cc:114] CPU Frequency: 1800000000 Hz\n"
     ]
    },
    {
     "name": "stdout",
     "output_type": "stream",
     "text": [
      "948/948 [==============================] - 68s 40ms/step - loss: 0.0072\n"
     ]
    },
    {
     "data": {
      "text/plain": [
       "<keras.callbacks.History at 0x7f13a07f7910>"
      ]
     },
     "execution_count": 15,
     "metadata": {},
     "output_type": "execute_result"
    }
   ],
   "source": [
    "model.fit(x_train,y_train,batch_size=1,epochs=1)"
   ]
  },
  {
   "cell_type": "code",
   "execution_count": 19,
   "id": "056ad91f",
   "metadata": {},
   "outputs": [],
   "source": [
    "test_data = scaled_data[training_data_len - 60: , :]\n",
    "x_test=[]\n",
    "y_test=dat[training_data_len:, :]\n",
    "for i in range(60, len(test_data)):\n",
    "    x_test.append(test_data[i-60:i,0])\n",
    "    "
   ]
  },
  {
   "cell_type": "code",
   "execution_count": 20,
   "id": "2ec9d81b",
   "metadata": {},
   "outputs": [],
   "source": [
    "x_test = np.array(x_test)\n"
   ]
  },
  {
   "cell_type": "code",
   "execution_count": 22,
   "id": "5a1f004a",
   "metadata": {},
   "outputs": [],
   "source": [
    "x_test = np.reshape(x_test,(x_test.shape[0],x_test.shape[1],1))\n"
   ]
  },
  {
   "cell_type": "code",
   "execution_count": 23,
   "id": "6a5b437a",
   "metadata": {},
   "outputs": [],
   "source": [
    "predictions = model.predict(x_test)\n",
    "predictions = scaler.inverse_transform(predictions)\n"
   ]
  },
  {
   "cell_type": "code",
   "execution_count": 24,
   "id": "c7cd9caf",
   "metadata": {},
   "outputs": [
    {
     "data": {
      "text/plain": [
       "6.007685140784518"
      ]
     },
     "execution_count": 24,
     "metadata": {},
     "output_type": "execute_result"
    }
   ],
   "source": [
    "rmse = np.sqrt(np.mean(predictions - y_test)**2)\n",
    "rmse"
   ]
  },
  {
   "cell_type": "code",
   "execution_count": 27,
   "id": "cd7b7a9b",
   "metadata": {},
   "outputs": [
    {
     "name": "stderr",
     "output_type": "stream",
     "text": [
      "/tmp/ipykernel_95828/1302397068.py:3: SettingWithCopyWarning: \n",
      "A value is trying to be set on a copy of a slice from a DataFrame.\n",
      "Try using .loc[row_indexer,col_indexer] = value instead\n",
      "\n",
      "See the caveats in the documentation: https://pandas.pydata.org/pandas-docs/stable/user_guide/indexing.html#returning-a-view-versus-a-copy\n",
      "  valid['Predictions'] = predictions\n"
     ]
    },
    {
     "data": {
      "image/png": "[encoded data removed]",
      "text/plain": [
       "<Figure size 1152x576 with 1 Axes>"
      ]
     },
     "metadata": {},
     "output_type": "display_data"
    }
   ],
   "source": [
    "train = df[:training_data_len]\n",
    "valid = df[training_data_len:]\n",
    "valid['Predictions'] = predictions\n",
    "\n",
    "plt.figure(figsize=(16,8))\n",
    "plt.title('Model')\n",
    "plt.xlabel('Date',fontsize=18)\n",
    "plt.ylabel('Close Price USD($)', fontsize=18)\n",
    "plt.plot(train['Close'])\n",
    "plt.plot(valid[['Close', 'Predictions']])\n",
    "plt.legend(['Train','val','Predictions'])\n",
    "plt.show()"
   ]
  },
  {
   "cell_type": "code",
   "execution_count": 28,
   "id": "da6c2307",
   "metadata": {},
   "outputs": [
    {
     "data": {
      "text/html": [
       "<div>\n",
       "<style scoped>\n",
       "    .dataframe tbody tr th:only-of-type {\n",
       "        vertical-align: middle;\n",
       "    }\n",
       "\n",
       "    .dataframe tbody tr th {\n",
       "        vertical-align: top;\n",
       "    }\n",
       "\n",
       "    .dataframe thead th {\n",
       "        text-align: right;\n",
       "    }\n",
       "</style>\n",
       "<table border=\"1\" class=\"dataframe\">\n",
       "  <thead>\n",
       "    <tr style=\"text-align: right;\">\n",
       "      <th></th>\n",
       "      <th>High</th>\n",
       "      <th>Low</th>\n",
       "      <th>Open</th>\n",
       "      <th>Close</th>\n",
       "      <th>Volume</th>\n",
       "      <th>Adj Close</th>\n",
       "      <th>Predictions</th>\n",
       "    </tr>\n",
       "    <tr>\n",
       "      <th>Date</th>\n",
       "      <th></th>\n",
       "      <th></th>\n",
       "      <th></th>\n",
       "      <th></th>\n",
       "      <th></th>\n",
       "      <th></th>\n",
       "      <th></th>\n",
       "    </tr>\n",
       "  </thead>\n",
       "  <tbody>\n",
       "    <tr>\n",
       "      <th>2021-10-12</th>\n",
       "      <td>143.250000</td>\n",
       "      <td>141.039993</td>\n",
       "      <td>143.229996</td>\n",
       "      <td>141.509995</td>\n",
       "      <td>73035900.0</td>\n",
       "      <td>140.721451</td>\n",
       "      <td>138.118698</td>\n",
       "    </tr>\n",
       "    <tr>\n",
       "      <th>2021-10-13</th>\n",
       "      <td>141.399994</td>\n",
       "      <td>139.199997</td>\n",
       "      <td>141.240005</td>\n",
       "      <td>140.910004</td>\n",
       "      <td>78762700.0</td>\n",
       "      <td>140.124802</td>\n",
       "      <td>138.094635</td>\n",
       "    </tr>\n",
       "    <tr>\n",
       "      <th>2021-10-14</th>\n",
       "      <td>143.880005</td>\n",
       "      <td>141.509995</td>\n",
       "      <td>142.110001</td>\n",
       "      <td>143.759995</td>\n",
       "      <td>69907100.0</td>\n",
       "      <td>142.958908</td>\n",
       "      <td>138.012268</td>\n",
       "    </tr>\n",
       "    <tr>\n",
       "      <th>2021-10-15</th>\n",
       "      <td>144.899994</td>\n",
       "      <td>143.509995</td>\n",
       "      <td>143.770004</td>\n",
       "      <td>144.839996</td>\n",
       "      <td>67940300.0</td>\n",
       "      <td>144.032898</td>\n",
       "      <td>138.085083</td>\n",
       "    </tr>\n",
       "    <tr>\n",
       "      <th>2021-10-18</th>\n",
       "      <td>146.839996</td>\n",
       "      <td>143.160004</td>\n",
       "      <td>143.449997</td>\n",
       "      <td>146.550003</td>\n",
       "      <td>85589200.0</td>\n",
       "      <td>145.733383</td>\n",
       "      <td>138.315048</td>\n",
       "    </tr>\n",
       "    <tr>\n",
       "      <th>...</th>\n",
       "      <td>...</td>\n",
       "      <td>...</td>\n",
       "      <td>...</td>\n",
       "      <td>...</td>\n",
       "      <td>...</td>\n",
       "      <td>...</td>\n",
       "      <td>...</td>\n",
       "    </tr>\n",
       "    <tr>\n",
       "      <th>2022-10-04</th>\n",
       "      <td>146.220001</td>\n",
       "      <td>144.259995</td>\n",
       "      <td>145.029999</td>\n",
       "      <td>146.100006</td>\n",
       "      <td>87830100.0</td>\n",
       "      <td>146.100006</td>\n",
       "      <td>143.668625</td>\n",
       "    </tr>\n",
       "    <tr>\n",
       "      <th>2022-10-05</th>\n",
       "      <td>147.380005</td>\n",
       "      <td>143.009995</td>\n",
       "      <td>144.070007</td>\n",
       "      <td>146.399994</td>\n",
       "      <td>79471000.0</td>\n",
       "      <td>146.399994</td>\n",
       "      <td>142.658035</td>\n",
       "    </tr>\n",
       "    <tr>\n",
       "      <th>2022-10-06</th>\n",
       "      <td>147.539993</td>\n",
       "      <td>145.220001</td>\n",
       "      <td>145.809998</td>\n",
       "      <td>145.429993</td>\n",
       "      <td>68402200.0</td>\n",
       "      <td>145.429993</td>\n",
       "      <td>141.959732</td>\n",
       "    </tr>\n",
       "    <tr>\n",
       "      <th>2022-10-07</th>\n",
       "      <td>143.100006</td>\n",
       "      <td>139.449997</td>\n",
       "      <td>142.539993</td>\n",
       "      <td>140.089996</td>\n",
       "      <td>85859100.0</td>\n",
       "      <td>140.089996</td>\n",
       "      <td>141.453415</td>\n",
       "    </tr>\n",
       "    <tr>\n",
       "      <th>2022-10-10</th>\n",
       "      <td>140.630005</td>\n",
       "      <td>138.572906</td>\n",
       "      <td>140.419998</td>\n",
       "      <td>139.110001</td>\n",
       "      <td>13839738.0</td>\n",
       "      <td>139.110001</td>\n",
       "      <td>140.762589</td>\n",
       "    </tr>\n",
       "  </tbody>\n",
       "</table>\n",
       "<p>251 rows × 7 columns</p>\n",
       "</div>"
      ],
      "text/plain": [
       "                  High         Low        Open       Close      Volume  \\\n",
       "Date                                                                     \n",
       "2021-10-12  143.250000  141.039993  143.229996  141.509995  73035900.0   \n",
       "2021-10-13  141.399994  139.199997  141.240005  140.910004  78762700.0   \n",
       "2021-10-14  143.880005  141.509995  142.110001  143.759995  69907100.0   \n",
       "2021-10-15  144.899994  143.509995  143.770004  144.839996  67940300.0   \n",
       "2021-10-18  146.839996  143.160004  143.449997  146.550003  85589200.0   \n",
       "...                ...         ...         ...         ...         ...   \n",
       "2022-10-04  146.220001  144.259995  145.029999  146.100006  87830100.0   \n",
       "2022-10-05  147.380005  143.009995  144.070007  146.399994  79471000.0   \n",
       "2022-10-06  147.539993  145.220001  145.809998  145.429993  68402200.0   \n",
       "2022-10-07  143.100006  139.449997  142.539993  140.089996  85859100.0   \n",
       "2022-10-10  140.630005  138.572906  140.419998  139.110001  13839738.0   \n",
       "\n",
       "             Adj Close  Predictions  \n",
       "Date                                 \n",
       "2021-10-12  140.721451   138.118698  \n",
       "2021-10-13  140.124802   138.094635  \n",
       "2021-10-14  142.958908   138.012268  \n",
       "2021-10-15  144.032898   138.085083  \n",
       "2021-10-18  145.733383   138.315048  \n",
       "...                ...          ...  \n",
       "2022-10-04  146.100006   143.668625  \n",
       "2022-10-05  146.399994   142.658035  \n",
       "2022-10-06  145.429993   141.959732  \n",
       "2022-10-07  140.089996   141.453415  \n",
       "2022-10-10  139.110001   140.762589  \n",
       "\n",
       "[251 rows x 7 columns]"
      ]
     },
     "execution_count": 28,
     "metadata": {},
     "output_type": "execute_result"
    }
   ],
   "source": [
    "valid\n"
   ]
  },
  {
   "cell_type": "code",
   "execution_count": null,
   "id": "9ed3a966",
   "metadata": {},
   "outputs": [],
   "source": []
  }
 ],
 "metadata": {
  "kernelspec": {
   "display_name": "Python 3 (ipykernel)",
   "language": "python",
   "name": "python3"
  },
  "language_info": {
   "codemirror_mode": {
    "name": "ipython",
    "version": 3
   },
   "file_extension": ".py",
   "mimetype": "text/x-python",
   "name": "python",
   "nbconvert_exporter": "python",
   "pygments_lexer": "ipython3",
   "version": "3.9.5"
  }
 },
 "nbformat": 4,
 "nbformat_minor": 5
}
