{
 "cells": [
  {
   "cell_type": "code",
   "execution_count": 1,
   "id": "85c6857e",
   "metadata": {},
   "outputs": [],
   "source": [
    "import pandas as pd\n",
    "import numpy as np\n",
    "import matplotlib.pyplot as plt\n",
    "%matplotlib inline\n",
    "from skimage.io import imread"
   ]
  },
  {
   "cell_type": "code",
   "execution_count": 6,
   "id": "2484f0a1",
   "metadata": {},
   "outputs": [],
   "source": [
    "data = [6, 7.5, 8, 0, 1]\n"
   ]
  },
  {
   "cell_type": "code",
   "execution_count": 18,
   "id": "78271036",
   "metadata": {},
   "outputs": [],
   "source": [
    "data=[[1,2,3,4],[5,6,7,8]]"
   ]
  },
  {
   "cell_type": "code",
   "execution_count": 19,
   "id": "e66d58ca",
   "metadata": {},
   "outputs": [
    {
     "data": {
      "text/plain": [
       "(2, 4)"
      ]
     },
     "execution_count": 19,
     "metadata": {},
     "output_type": "execute_result"
    }
   ],
   "source": [
    "np.array(data).shape"
   ]
  },
  {
   "cell_type": "code",
   "execution_count": 15,
   "id": "199e297a",
   "metadata": {},
   "outputs": [
    {
     "ename": "AttributeError",
     "evalue": "'list' object has no attribute 'shape'",
     "output_type": "error",
     "traceback": [
      "\u001b[0;31m---------------------------------------------------------------------------\u001b[0m",
      "\u001b[0;31mAttributeError\u001b[0m                            Traceback (most recent call last)",
      "\u001b[0;32m/tmp/ipykernel_64620/3590026947.py\u001b[0m in \u001b[0;36m<module>\u001b[0;34m\u001b[0m\n\u001b[0;32m----> 1\u001b[0;31m \u001b[0mdata\u001b[0m\u001b[0;34m.\u001b[0m\u001b[0mshape\u001b[0m\u001b[0;34m\u001b[0m\u001b[0;34m\u001b[0m\u001b[0m\n\u001b[0m",
      "\u001b[0;31mAttributeError\u001b[0m: 'list' object has no attribute 'shape'"
     ]
    }
   ],
   "source": [
    "data.shape\n"
   ]
  },
  {
   "cell_type": "code",
   "execution_count": 21,
   "id": "dbc38939",
   "metadata": {},
   "outputs": [
    {
     "name": "stdout",
     "output_type": "stream",
     "text": [
      "[0. 0. 0. 0. 0. 0. 0. 0. 0. 0.] \n",
      "\n",
      "[[0. 0. 0. 0. 0. 0.]\n",
      " [0. 0. 0. 0. 0. 0.]\n",
      " [0. 0. 0. 0. 0. 0.]] \n",
      "\n",
      "[[1. 0. 0.]\n",
      " [0. 1. 0.]\n",
      " [0. 0. 1.]]\n"
     ]
    }
   ],
   "source": [
    "print(np.zeros(10), '\\n')\n",
    "print(np.zeros((3, 6)), '\\n')\n",
    "print(np.eye(3))"
   ]
  },
  {
   "cell_type": "code",
   "execution_count": 22,
   "id": "62f360bc",
   "metadata": {},
   "outputs": [],
   "source": [
    "arr1 = np.array([1, 2, 3], dtype=np.float64)\n",
    "arr2 = np.array([1, 2, 3], dtype=np.int32)\n"
   ]
  },
  {
   "cell_type": "code",
   "execution_count": 23,
   "id": "7a480694",
   "metadata": {},
   "outputs": [
    {
     "data": {
      "text/plain": [
       "array([1., 2., 3.])"
      ]
     },
     "execution_count": 23,
     "metadata": {},
     "output_type": "execute_result"
    }
   ],
   "source": [
    "arr1"
   ]
  },
  {
   "cell_type": "code",
   "execution_count": 24,
   "id": "c117852c",
   "metadata": {},
   "outputs": [
    {
     "data": {
      "text/plain": [
       "array([1, 2, 3], dtype=int32)"
      ]
     },
     "execution_count": 24,
     "metadata": {},
     "output_type": "execute_result"
    }
   ],
   "source": [
    "arr2"
   ]
  },
  {
   "cell_type": "code",
   "execution_count": 25,
   "id": "d52a0724",
   "metadata": {},
   "outputs": [
    {
     "name": "stdout",
     "output_type": "stream",
     "text": [
      "int64 \n",
      "\n",
      "float64\n"
     ]
    }
   ],
   "source": [
    "'''\n",
    "You can explicitly convert or cast an array from one dtype to another using ndarray’s\n",
    "astype method:\n",
    "'''\n",
    "arr = np.array([1, 2, 3, 4, 5])\n",
    "print(arr.dtype, '\\n')\n",
    "\n",
    "float_arr = arr.astype(np.float64)\n",
    "print(float_arr.dtype)"
   ]
  },
  {
   "cell_type": "code",
   "execution_count": 26,
   "id": "1876c10f",
   "metadata": {},
   "outputs": [
    {
     "data": {
      "text/plain": [
       "array([1, 2, 3, 4, 5])"
      ]
     },
     "execution_count": 26,
     "metadata": {},
     "output_type": "execute_result"
    }
   ],
   "source": [
    "arr"
   ]
  },
  {
   "cell_type": "code",
   "execution_count": 27,
   "id": "7ec12511",
   "metadata": {},
   "outputs": [
    {
     "ename": "NameError",
     "evalue": "name 'astype' is not defined",
     "output_type": "error",
     "traceback": [
      "\u001b[0;31m---------------------------------------------------------------------------\u001b[0m",
      "\u001b[0;31mNameError\u001b[0m                                 Traceback (most recent call last)",
      "\u001b[0;32m/tmp/ipykernel_64620/2399517315.py\u001b[0m in \u001b[0;36m<module>\u001b[0;34m\u001b[0m\n\u001b[0;32m----> 1\u001b[0;31m \u001b[0mhelp\u001b[0m\u001b[0;34m(\u001b[0m\u001b[0mastype\u001b[0m\u001b[0;34m)\u001b[0m\u001b[0;34m\u001b[0m\u001b[0;34m\u001b[0m\u001b[0m\n\u001b[0m",
      "\u001b[0;31mNameError\u001b[0m: name 'astype' is not defined"
     ]
    }
   ],
   "source": [
    "help('0astype)"
   ]
  },
  {
   "cell_type": "code",
   "execution_count": 5,
   "id": "43374dab",
   "metadata": {},
   "outputs": [
    {
     "name": "stdout",
     "output_type": "stream",
     "text": [
      "int64\n",
      "float64\n"
     ]
    }
   ],
   "source": [
    "arr = np.array([1, 2, 3, 4, 5])\n",
    "print(arr.dtype)\n",
    "float_arr = arr.astype(np.float64)\n",
    "print(float_arr.dtype)"
   ]
  },
  {
   "cell_type": "code",
   "execution_count": 6,
   "id": "67ee0a61",
   "metadata": {},
   "outputs": [
    {
     "name": "stdout",
     "output_type": "stream",
     "text": [
      "[ 3 -1 -2  0 12 10]\n"
     ]
    }
   ],
   "source": [
    "'''\n",
    "If I cast some floating-point\n",
    "numbers to be of integer dtype, the decimal part will be truncated:\n",
    "'''\n",
    "arr = np.array([3.7, -1.2, -2.6, 0.5, 12.9, 10.1])\n",
    "print(arr.astype(np.int32))"
   ]
  },
  {
   "cell_type": "code",
   "execution_count": 18,
   "id": "de433558",
   "metadata": {},
   "outputs": [
    {
     "name": "stdout",
     "output_type": "stream",
     "text": [
      "[7 8 9]\n",
      "3\n",
      "3\n"
     ]
    }
   ],
   "source": [
    "'''With higher dimensional arrays, you have many more options. In a two-dimensional\n",
    "array, the elements at each index are no longer scalars but rather one-dimensional\n",
    "arrays:\n",
    "'''\n",
    "arr2d = np.array([[1, 2, 3], [4, 5, 6], [7, 8, 9],[10,11,12]])\n",
    "print(arr2d[2])\n",
    "print(arr2d[0][2])\n",
    "print(arr2d[0, 2]) # either way is fine"
   ]
  },
  {
   "cell_type": "code",
   "execution_count": 19,
   "id": "6ffc2860",
   "metadata": {},
   "outputs": [
    {
     "data": {
      "text/plain": [
       "array([[ 1,  2,  3],\n",
       "       [ 4,  5,  6],\n",
       "       [ 7,  8,  9],\n",
       "       [10, 11, 12]])"
      ]
     },
     "execution_count": 19,
     "metadata": {},
     "output_type": "execute_result"
    }
   ],
   "source": [
    "arr2d"
   ]
  },
  {
   "cell_type": "code",
   "execution_count": 25,
   "id": "c54e0faa",
   "metadata": {},
   "outputs": [
    {
     "data": {
      "text/plain": [
       "array([[2, 3],\n",
       "       [5, 6]])"
      ]
     },
     "execution_count": 25,
     "metadata": {},
     "output_type": "execute_result"
    }
   ],
   "source": [
    "arr2d[:2,1:]"
   ]
  },
  {
   "cell_type": "code",
   "execution_count": 28,
   "id": "6a0104e1",
   "metadata": {},
   "outputs": [
    {
     "data": {
      "text/plain": [
       "array([[ 3],\n",
       "       [ 6],\n",
       "       [ 9],\n",
       "       [12]])"
      ]
     },
     "execution_count": 28,
     "metadata": {},
     "output_type": "execute_result"
    }
   ],
   "source": [
    "arr2d[:4,2:]"
   ]
  },
  {
   "cell_type": "code",
   "execution_count": 29,
   "id": "99d759cc",
   "metadata": {},
   "outputs": [
    {
     "data": {
      "text/plain": [
       "array([[[ 0,  1,  2,  3],\n",
       "        [ 4,  5,  6,  7]],\n",
       "\n",
       "       [[ 8,  9, 10, 11],\n",
       "        [12, 13, 14, 15]]])"
      ]
     },
     "execution_count": 29,
     "metadata": {},
     "output_type": "execute_result"
    }
   ],
   "source": [
    "'''\n",
    "For higher dimensional arrays, transpose will accept a tuple of axis numbers to per‐\n",
    "mute the axes (for extra mind bending):\n",
    "'''\n",
    "arr = np.arange(16).reshape((2, 2, 4))\n",
    "arr"
   ]
  },
  {
   "cell_type": "code",
   "execution_count": 39,
   "id": "33a07324",
   "metadata": {},
   "outputs": [
    {
     "data": {
      "text/plain": [
       "array([[[ 0,  8],\n",
       "        [ 4, 12]],\n",
       "\n",
       "       [[ 1,  9],\n",
       "        [ 5, 13]],\n",
       "\n",
       "       [[ 2, 10],\n",
       "        [ 6, 14]],\n",
       "\n",
       "       [[ 3, 11],\n",
       "        [ 7, 15]]])"
      ]
     },
     "execution_count": 39,
     "metadata": {},
     "output_type": "execute_result"
    }
   ],
   "source": [
    "arr.transpose((2, 1, 0))"
   ]
  },
  {
   "cell_type": "code",
   "execution_count": 40,
   "id": "44add7de",
   "metadata": {},
   "outputs": [
    {
     "data": {
      "text/plain": [
       "'Suppose we wanted to take a value from xarr whenever the corresponding value in\\ncond is True, and otherwise take the value from yarr. A list comprehension doing\\nthis might look like:'"
      ]
     },
     "execution_count": 40,
     "metadata": {},
     "output_type": "execute_result"
    }
   ],
   "source": [
    "xarr = np.array([1.1, 1.2, 1.3, 1.4, 1.5])\n",
    "yarr = np.array([2.1, 2.2, 2.3, 2.4, 2.5])\n",
    "cond = np.array([True, False, True, True, False])\n",
    "\n",
    "'''Suppose we wanted to take a value from xarr whenever the corresponding value in\n",
    "cond is True, and otherwise take the value from yarr. A list comprehension doing\n",
    "this might look like:'''"
   ]
  },
  {
   "cell_type": "code",
   "execution_count": 41,
   "id": "87e1d92e",
   "metadata": {},
   "outputs": [
    {
     "data": {
      "text/plain": [
       "[1.1, 2.2, 1.3, 1.4, 2.5]"
      ]
     },
     "execution_count": 41,
     "metadata": {},
     "output_type": "execute_result"
    }
   ],
   "source": [
    "result=[(x if c else y) for x,y,c in zip(xarr, yarr, cond)]\n",
    "result"
   ]
  },
  {
   "cell_type": "code",
   "execution_count": 42,
   "id": "53096778",
   "metadata": {},
   "outputs": [
    {
     "data": {
      "text/plain": [
       "array([1.1, 2.2, 1.3, 1.4, 2.5])"
      ]
     },
     "execution_count": 42,
     "metadata": {},
     "output_type": "execute_result"
    }
   ],
   "source": [
    "result = np.where(cond, xarr, yarr)\n",
    "result"
   ]
  },
  {
   "cell_type": "code",
   "execution_count": 45,
   "id": "533c27da",
   "metadata": {},
   "outputs": [
    {
     "name": "stdout",
     "output_type": "stream",
     "text": [
      "[1 3]\n"
     ]
    }
   ],
   "source": [
    "arr = np.random.randint((5, 4))\n",
    "print(arr)"
   ]
  },
  {
   "cell_type": "code",
   "execution_count": 46,
   "id": "0b0a7cd2",
   "metadata": {},
   "outputs": [
    {
     "name": "stdout",
     "output_type": "stream",
     "text": [
      "7\n"
     ]
    }
   ],
   "source": [
    "import random\n",
    "\n",
    "print(random.randint(3, 9))"
   ]
  },
  {
   "cell_type": "code",
   "execution_count": 48,
   "id": "3def1e53",
   "metadata": {},
   "outputs": [
    {
     "data": {
      "text/plain": [
       "array([[0, 1],\n",
       "       [2, 3]])"
      ]
     },
     "execution_count": 48,
     "metadata": {},
     "output_type": "execute_result"
    }
   ],
   "source": [
    "mat1 = np.arange(4).reshape(2,2)\n",
    "mat1"
   ]
  },
  {
   "cell_type": "code",
   "execution_count": 49,
   "id": "2ce72321",
   "metadata": {},
   "outputs": [
    {
     "data": {
      "text/plain": [
       "array([[0, 2],\n",
       "       [4, 6]])"
      ]
     },
     "execution_count": 49,
     "metadata": {},
     "output_type": "execute_result"
    }
   ],
   "source": [
    "mat2 = (np.arange(4)*2).reshape(2,2)\n",
    "mat2"
   ]
  },
  {
   "cell_type": "code",
   "execution_count": 50,
   "id": "8ed78a7f",
   "metadata": {},
   "outputs": [
    {
     "data": {
      "text/plain": [
       "array([[0, 3],\n",
       "       [6, 9]])"
      ]
     },
     "execution_count": 50,
     "metadata": {},
     "output_type": "execute_result"
    }
   ],
   "source": [
    "mat3 = (np.arange(4)*3).reshape(2,2)\n",
    "mat3"
   ]
  },
  {
   "cell_type": "code",
   "execution_count": 51,
   "id": "d5aea3e8",
   "metadata": {},
   "outputs": [
    {
     "name": "stdout",
     "output_type": "stream",
     "text": [
      "[[ 36  66]\n",
      " [132 234]]\n"
     ]
    }
   ],
   "source": [
    "print(np.linalg.multi_dot( [mat1, mat2, mat3] ))"
   ]
  },
  {
   "cell_type": "code",
   "execution_count": 52,
   "id": "0aba5031",
   "metadata": {},
   "outputs": [
    {
     "name": "stdout",
     "output_type": "stream",
     "text": [
      "5.000000000000001\n",
      "[2. 3.]\n",
      "[[ 0.4 -0.2]\n",
      " [-0.2  0.6]]\n",
      "2\n"
     ]
    }
   ],
   "source": [
    "a = np.array([[3, 1],[1, 2]])\n",
    "b = np.array([9, 8])\n",
    "''' Checking if system of equation has unique solution '''\n",
    "print(np.linalg.det(a)) \n",
    "# 5.0\n",
    "''' Since det = 5 which is non-zero. Hence, we have unique solutions\n",
    " Finding unique solution '''\n",
    "print(np.linalg.solve(a, b))\n",
    "# [ 2.  3.]\n",
    "''' Calculating Inverse: Since, determinant is non-zero \n",
    " hence, matrix is invertible '''\n",
    "print(np.linalg.inv(a))\n",
    "# [[ 0.4 -0.2]\n",
    "#  [-0.2  0.6]]\n",
    "''' Calculating Rank of the matrix '''\n",
    "print(np.linalg.matrix_rank(a))\n",
    "# 2 "
   ]
  },
  {
   "cell_type": "code",
   "execution_count": null,
   "id": "a0d10f0f",
   "metadata": {},
   "outputs": [],
   "source": []
  }
 ],
 "metadata": {
  "kernelspec": {
   "display_name": "Python 3 (ipykernel)",
   "language": "python",
   "name": "python3"
  },
  "language_info": {
   "codemirror_mode": {
    "name": "ipython",
    "version": 3
   },
   "file_extension": ".py",
   "mimetype": "text/x-python",
   "name": "python",
   "nbconvert_exporter": "python",
   "pygments_lexer": "ipython3",
   "version": "3.9.12"
  }
 },
 "nbformat": 4,
 "nbformat_minor": 5
}
